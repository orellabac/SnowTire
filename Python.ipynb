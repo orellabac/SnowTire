{
 "cells": [
  {
   "cell_type": "code",
   "execution_count": 3,
   "metadata": {},
   "outputs": [],
   "source": [
    "# Import the various modules required to make a simple Snowflake connection from Python\n",
    "import snowflake.connector\n",
    "from snowflake.connector.converter_null import SnowflakeNoConverterToPython\n",
    "import pandas as pd\n",
    "import os"
   ]
  },
  {
   "cell_type": "code",
   "execution_count": 11,
   "metadata": {},
   "outputs": [],
   "source": [
    "# Modify this cell to include information about your demo account\n",
    "ACCOUNT   = os.getenv('SNOW_ACCOUNT')\n",
    "USER      = os.getenv('SNOW_USER')\n",
    "PASSWORD  = os.getenv('SNOW_PASSWORD')\n",
    "WAREHOUSE = os.getenv('SNOW_WAREHOUSE')\n",
    "ROLE      = os.getenv('SNOW_ROLE')\n",
    "DATABASE  = os.getenv('SNOW_DATABASE')\n",
    "\n",
    "con = snowflake.connector.connect(\n",
    "  user=USER,\n",
    "  password=PASSWORD,\n",
    "  account=ACCOUNT,\n",
    "  warehouse=WAREHOUSE,\n",
    "  role=ROLE,\n",
    "  converter_class=SnowflakeNoConverterToPython\n",
    ")"
   ]
  },
  {
   "cell_type": "code",
   "execution_count": 13,
   "metadata": {},
   "outputs": [
    {
     "data": {
      "text/plain": [
       "<snowflake.connector.cursor.SnowflakeCursor at 0x7fd6c51b0d90>"
      ]
     },
     "execution_count": 13,
     "metadata": {},
     "output_type": "execute_result"
    }
   ],
   "source": [
    "con.cursor().execute(f\"USE DATABASE {DATABASE}\")\n",
    "sql = \"create or replace table sample_product_data (id int, parent_id int, category_id int, name varchar, serial_number varchar, key int, \\\"3rd\\\" int);\"\n",
    "con.cursor().execute(sql)\n",
    "sql = \"\"\"insert into sample_product_data values\n",
    "    (1, 0, 5, 'Product 1', 'prod-1', 1, 10),\n",
    "    (2, 1, 5, 'Product 1A', 'prod-1-A', 1, 20),\n",
    "    (3, 1, 5, 'Product 1B', 'prod-1-B', 1, 30),\n",
    "    (4, 0, 10, 'Product 2', 'prod-2', 2, 40),\n",
    "    (5, 4, 10, 'Product 2A', 'prod-2-A', 2, 50),\n",
    "    (6, 4, 10, 'Product 2B', 'prod-2-B', 2, 60),\n",
    "    (7, 0, 20, 'Product 3', 'prod-3', 3, 70),\n",
    "    (8, 7, 20, 'Product 3A', 'prod-3-A', 3, 80),\n",
    "    (9, 7, 20, 'Product 3B', 'prod-3-B', 3, 90),\n",
    "    (10, 0, 50, 'Product 4', 'prod-4', 4, 100),\n",
    "    (11, 10, 50, 'Product 4A', 'prod-4-A', 4, 100),\n",
    "    (12, 10, 50, 'Product 4B', 'prod-4-B', 4, 100);\"\"\"\n",
    "con.cursor().execute(sql)"
   ]
  },
  {
   "cell_type": "code",
   "execution_count": 14,
   "metadata": {},
   "outputs": [],
   "source": [
    "# Create a variable called sql and specify a query that it will store\n",
    "sql = \"select * from sample_product_data limit 10000\""
   ]
  },
  {
   "cell_type": "code",
   "execution_count": 15,
   "metadata": {},
   "outputs": [],
   "source": [
    "# Execute the query using the Python connector\n",
    "#%%time\n",
    "res = con.cursor().execute(sql).fetchall()\n"
   ]
  },
  {
   "cell_type": "code",
   "execution_count": 16,
   "metadata": {},
   "outputs": [
    {
     "name": "stdout",
     "output_type": "stream",
     "text": [
      "<class 'pandas.core.frame.DataFrame'>\n",
      "RangeIndex: 12 entries, 0 to 11\n",
      "Data columns (total 7 columns):\n",
      " #   Column         Non-Null Count  Dtype \n",
      "---  ------         --------------  ----- \n",
      " 0   ID             12 non-null     int64 \n",
      " 1   PARENT_ID      12 non-null     int64 \n",
      " 2   CATEGORY_ID    12 non-null     int64 \n",
      " 3   NAME           12 non-null     object\n",
      " 4   SERIAL_NUMBER  12 non-null     object\n",
      " 5   KEY            12 non-null     int64 \n",
      " 6   3rd            12 non-null     int64 \n",
      "dtypes: int64(5), object(2)\n",
      "memory usage: 800.0+ bytes\n"
     ]
    }
   ],
   "source": [
    "# Run that same query, but this time use the read_sql method\n",
    "# in the Pandas data frame object\n",
    "#%%time\n",
    "df = pd.read_sql(sql, con)\n",
    "df.info()\n"
   ]
  },
  {
   "cell_type": "code",
   "execution_count": 17,
   "metadata": {},
   "outputs": [
    {
     "data": {
      "text/html": [
       "<div>\n",
       "<style scoped>\n",
       "    .dataframe tbody tr th:only-of-type {\n",
       "        vertical-align: middle;\n",
       "    }\n",
       "\n",
       "    .dataframe tbody tr th {\n",
       "        vertical-align: top;\n",
       "    }\n",
       "\n",
       "    .dataframe thead th {\n",
       "        text-align: right;\n",
       "    }\n",
       "</style>\n",
       "<table border=\"1\" class=\"dataframe\">\n",
       "  <thead>\n",
       "    <tr style=\"text-align: right;\">\n",
       "      <th></th>\n",
       "      <th>NAME</th>\n",
       "    </tr>\n",
       "    <tr>\n",
       "      <th>PARENT_ID</th>\n",
       "      <th></th>\n",
       "    </tr>\n",
       "  </thead>\n",
       "  <tbody>\n",
       "    <tr>\n",
       "      <th>0</th>\n",
       "      <td>4</td>\n",
       "    </tr>\n",
       "    <tr>\n",
       "      <th>1</th>\n",
       "      <td>2</td>\n",
       "    </tr>\n",
       "    <tr>\n",
       "      <th>4</th>\n",
       "      <td>2</td>\n",
       "    </tr>\n",
       "    <tr>\n",
       "      <th>7</th>\n",
       "      <td>2</td>\n",
       "    </tr>\n",
       "    <tr>\n",
       "      <th>10</th>\n",
       "      <td>2</td>\n",
       "    </tr>\n",
       "  </tbody>\n",
       "</table>\n",
       "</div>"
      ],
      "text/plain": [
       "           NAME\n",
       "PARENT_ID      \n",
       "0             4\n",
       "1             2\n",
       "4             2\n",
       "7             2\n",
       "10            2"
      ]
     },
     "execution_count": 17,
     "metadata": {},
     "output_type": "execute_result"
    }
   ],
   "source": [
    "df.groupby('PARENT_ID')[['NAME']].count()"
   ]
  },
  {
   "cell_type": "code",
   "execution_count": 18,
   "metadata": {},
   "outputs": [
    {
     "data": {
      "text/plain": [
       "ID               False\n",
       "PARENT_ID        False\n",
       "CATEGORY_ID      False\n",
       "NAME             False\n",
       "SERIAL_NUMBER    False\n",
       "KEY              False\n",
       "3rd              False\n",
       "dtype: bool"
      ]
     },
     "execution_count": 18,
     "metadata": {},
     "output_type": "execute_result"
    }
   ],
   "source": [
    "# Check to see if any of the columns have null values\n",
    "pd.isnull(df).any()"
   ]
  },
  {
   "cell_type": "code",
   "execution_count": 19,
   "metadata": {},
   "outputs": [
    {
     "data": {
      "text/plain": [
       "list"
      ]
     },
     "execution_count": 19,
     "metadata": {},
     "output_type": "execute_result"
    }
   ],
   "source": [
    "type(res)"
   ]
  },
  {
   "cell_type": "code",
   "execution_count": 20,
   "metadata": {},
   "outputs": [
    {
     "name": "stdout",
     "output_type": "stream",
     "text": [
      "(1, 0, 5, 'Product 1', 'prod-1', 1, 10)\n"
     ]
    }
   ],
   "source": [
    "print (res[0])"
   ]
  },
  {
   "cell_type": "code",
   "execution_count": 11,
   "metadata": {},
   "outputs": [
    {
     "name": "stdout",
     "output_type": "stream",
     "text": [
      "AUTOMOBILE has occured 1974 times\n",
      "BUILDING has occured 1964 times\n",
      "MACHINERY has occured 1989 times\n",
      "HOUSEHOLD has occured 2025 times\n",
      "FURNITURE has occured 2048 times\n"
     ]
    }
   ],
   "source": [
    "unique_cust_key = []\n",
    "z = []\n",
    "for x in res:\n",
    "    z.append((x[0],x[6]))\n",
    "\n",
    "for x in z:\n",
    "    if x not in unique_cust_key:\n",
    "        unique_cust_key.append(x)\n",
    "    \n",
    "# initailize a null list \n",
    "unique_list = []\n",
    "\n",
    "# traverse for all elements \n",
    "for x in unique_cust_key:\n",
    "    # check if exists in unique_list or not \n",
    "    if x[1] not in unique_list:\n",
    "        unique_list.append(x[1])\n",
    "       \n",
    "def countX(lst, x):\n",
    "    count = 0\n",
    "    for y in lst:\n",
    "        if (y[1] == x):\n",
    "            count = count + 1\n",
    "    return count\n",
    "\n",
    "for a in unique_list:\n",
    "    print('{} has occured {} times'.format(a, countX(unique_cust_key, a))) \n",
    "    \n"
   ]
  }
 ],
 "metadata": {
  "kernelspec": {
   "display_name": "Python 3",
   "language": "python",
   "name": "python3"
  },
  "language_info": {
   "codemirror_mode": {
    "name": "ipython",
    "version": 3
   },
   "file_extension": ".py",
   "mimetype": "text/x-python",
   "name": "python",
   "nbconvert_exporter": "python",
   "pygments_lexer": "ipython3",
   "version": "3.9.4"
  }
 },
 "nbformat": 4,
 "nbformat_minor": 2
}
