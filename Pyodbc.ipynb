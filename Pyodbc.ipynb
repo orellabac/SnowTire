{
 "cells": [
  {
   "cell_type": "code",
   "execution_count": 8,
   "metadata": {},
   "outputs": [],
   "source": [
    "# Import the necessary modules\n",
    "import pyodbc\n",
    "import os\n",
    "import pandas as pd\n"
   ]
  },
  {
   "cell_type": "code",
   "execution_count": 11,
   "metadata": {},
   "outputs": [],
   "source": [
    "# Define the connection and specify a query to run\n",
    "# Change the values of server & PWD & warehouse to match your demo environment\n",
    "cn_str = '''Driver={SnowflakeDSIIDriver};'''\n",
    "cn_str = cn_str + f'''server={os.getenv('SNOW_ACCOUNT')}.snowflakecomputing.com;\n",
    "database={os.getenv('SNOW_DATABASE')};\n",
    "warehouse={os.getenv('SNOW_WAREHOUSE')};\n",
    "schema=public;\n",
    "UID={os.getenv('SNOW_USER')};\n",
    "PWD={os.getenv('SNOW_PASSWORD')}'''\n",
    "cn = pyodbc.connect(cn_str)\n",
    "cn.setencoding('utf-8')"
   ]
  },
  {
   "cell_type": "code",
   "execution_count": 12,
   "metadata": {},
   "outputs": [
    {
     "data": {
      "text/plain": [
       "<pyodbc.Cursor at 0x7fb0bf56a830>"
      ]
     },
     "execution_count": 12,
     "metadata": {},
     "output_type": "execute_result"
    }
   ],
   "source": [
    "sql = \"create or replace table sample_product_data (id int, parent_id int, category_id int, name varchar, serial_number varchar, key int, \\\"3rd\\\" int);\"\n",
    "cn.execute(sql)\n",
    "sql = \"\"\"insert into sample_product_data values\n",
    "    (1, 0, 5, 'Product 1', 'prod-1', 1, 10),\n",
    "    (2, 1, 5, 'Product 1A', 'prod-1-A', 1, 20),\n",
    "    (3, 1, 5, 'Product 1B', 'prod-1-B', 1, 30),\n",
    "    (4, 0, 10, 'Product 2', 'prod-2', 2, 40),\n",
    "    (5, 4, 10, 'Product 2A', 'prod-2-A', 2, 50),\n",
    "    (6, 4, 10, 'Product 2B', 'prod-2-B', 2, 60),\n",
    "    (7, 0, 20, 'Product 3', 'prod-3', 3, 70),\n",
    "    (8, 7, 20, 'Product 3A', 'prod-3-A', 3, 80),\n",
    "    (9, 7, 20, 'Product 3B', 'prod-3-B', 3, 90),\n",
    "    (10, 0, 50, 'Product 4', 'prod-4', 4, 100),\n",
    "    (11, 10, 50, 'Product 4A', 'prod-4-A', 4, 100),\n",
    "    (12, 10, 50, 'Product 4B', 'prod-4-B', 4, 100);\"\"\"\n",
    "cn.execute(sql)"
   ]
  },
  {
   "cell_type": "code",
   "execution_count": 22,
   "metadata": {},
   "outputs": [],
   "source": [
    "sql = \"\"\"CREATE OR REPLACE TABLE Countries (\n",
    "    Id INT NOT NULL,\n",
    "    ISO VARCHAR(2) NOT NULL,\n",
    "    ISO3 VARCHAR(3) NOT NULL,\n",
    "    ISONumeric INT NOT NULL,\n",
    "    CountryName VARCHAR(64) NOT NULL,\n",
    "    Capital VARCHAR(64) NOT NULL,\n",
    "    ContinentCode VARCHAR(2) NOT NULL,\n",
    "    CurrencyCode VARCHAR(3) NOT NULL)\"\"\"\n",
    "res = cn.execute(sql)"
   ]
  },
  {
   "cell_type": "code",
   "execution_count": 24,
   "metadata": {},
   "outputs": [],
   "source": [
    "sql = \"\"\"\n",
    "INSERT INTO Countries\n",
    "    (Id,ISO, ISO3, ISONumeric, CountryName, Capital, ContinentCode, CurrencyCode)\n",
    "VALUES\n",
    "    (1,'AU', 'AUS', 36, 'Australia', 'Canberra', 'OC', 'AUD'),\n",
    "    (2,'DE', 'DEU', 276, 'Germany', 'Berlin', 'EU', 'EUR'),\n",
    "    (3,'IN', 'IND', 356, 'India', 'New Delhi', 'AS', 'INR'),\n",
    "    (4,'LA', 'LAO', 418, 'Laos', 'Vientiane', 'AS', 'LAK'),\n",
    "    (5,'US', 'USA', 840, 'United States', 'Washington', 'NA', 'USD'),\n",
    "    (6,'ZW', 'ZWE', 716, 'Zimbabwe', 'Harare', 'AF', 'ZWL')\n",
    "    \"\"\"\n",
    "res = cn.execute(sql)"
   ]
  },
  {
   "cell_type": "code",
   "execution_count": 13,
   "metadata": {},
   "outputs": [],
   "source": [
    "# Run the SQL and store the results in the res object\n",
    "#%%time\n",
    "sql = \"select * from sample_product_data\"\n",
    "res = cn.execute(sql).fetchall()"
   ]
  },
  {
   "cell_type": "code",
   "execution_count": 14,
   "metadata": {},
   "outputs": [],
   "source": [
    "# Run the SQL And store the results in the df object\n",
    "#%%time\n",
    "df = pd.read_sql(sql, cn)"
   ]
  },
  {
   "cell_type": "code",
   "execution_count": 15,
   "metadata": {},
   "outputs": [
    {
     "name": "stdout",
     "output_type": "stream",
     "text": [
      "<class 'pandas.core.frame.DataFrame'>\n",
      "RangeIndex: 12 entries, 0 to 11\n",
      "Data columns (total 7 columns):\n",
      " #   Column         Non-Null Count  Dtype  \n",
      "---  ------         --------------  -----  \n",
      " 0   I\u0000             12 non-null     float64\n",
      " 1   P\u0000A\u0000R\u0000E\u0000N      12 non-null     float64\n",
      " 2   C\u0000A\u0000T\u0000E\u0000G\u0000O    12 non-null     float64\n",
      " 3   N\u0000A\u0000           12 non-null     object \n",
      " 4   S\u0000E\u0000R\u0000I\u0000A\u0000L\u0000_  12 non-null     object \n",
      " 5   K\u0000E            12 non-null     float64\n",
      " 6   3\u0000r            12 non-null     float64\n",
      "dtypes: float64(5), object(2)\n",
      "memory usage: 800.0+ bytes\n"
     ]
    }
   ],
   "source": [
    "df.info()"
   ]
  },
  {
   "cell_type": "code",
   "execution_count": 16,
   "metadata": {},
   "outputs": [
    {
     "data": {
      "text/plain": [
       "I\u0000               False\n",
       "P\u0000A\u0000R\u0000E\u0000N        False\n",
       "C\u0000A\u0000T\u0000E\u0000G\u0000O      False\n",
       "N\u0000A\u0000             False\n",
       "S\u0000E\u0000R\u0000I\u0000A\u0000L\u0000_    False\n",
       "K\u0000E              False\n",
       "3\u0000r              False\n",
       "dtype: bool"
      ]
     },
     "execution_count": 16,
     "metadata": {},
     "output_type": "execute_result"
    }
   ],
   "source": [
    "pd.isnull(df).any()"
   ]
  },
  {
   "cell_type": "code",
   "execution_count": 18,
   "metadata": {},
   "outputs": [
    {
     "data": {
      "text/html": [
       "<div>\n",
       "<style scoped>\n",
       "    .dataframe tbody tr th:only-of-type {\n",
       "        vertical-align: middle;\n",
       "    }\n",
       "\n",
       "    .dataframe tbody tr th {\n",
       "        vertical-align: top;\n",
       "    }\n",
       "\n",
       "    .dataframe thead th {\n",
       "        text-align: right;\n",
       "    }\n",
       "</style>\n",
       "<table border=\"1\" class=\"dataframe\">\n",
       "  <thead>\n",
       "    <tr style=\"text-align: right;\">\n",
       "      <th></th>\n",
       "      <th>I\u0000</th>\n",
       "      <th>P\u0000A\u0000R\u0000E\u0000N</th>\n",
       "      <th>C\u0000A\u0000T\u0000E\u0000G\u0000O</th>\n",
       "      <th>K\u0000E</th>\n",
       "      <th>3\u0000r</th>\n",
       "    </tr>\n",
       "  </thead>\n",
       "  <tbody>\n",
       "    <tr>\n",
       "      <th>count</th>\n",
       "      <td>12.000000</td>\n",
       "      <td>12.000000</td>\n",
       "      <td>12.000000</td>\n",
       "      <td>12.000000</td>\n",
       "      <td>12.00000</td>\n",
       "    </tr>\n",
       "    <tr>\n",
       "      <th>mean</th>\n",
       "      <td>6.500000</td>\n",
       "      <td>3.666667</td>\n",
       "      <td>21.250000</td>\n",
       "      <td>2.500000</td>\n",
       "      <td>62.50000</td>\n",
       "    </tr>\n",
       "    <tr>\n",
       "      <th>std</th>\n",
       "      <td>3.605551</td>\n",
       "      <td>3.938928</td>\n",
       "      <td>18.231466</td>\n",
       "      <td>1.167748</td>\n",
       "      <td>32.50874</td>\n",
       "    </tr>\n",
       "    <tr>\n",
       "      <th>min</th>\n",
       "      <td>1.000000</td>\n",
       "      <td>0.000000</td>\n",
       "      <td>5.000000</td>\n",
       "      <td>1.000000</td>\n",
       "      <td>10.00000</td>\n",
       "    </tr>\n",
       "    <tr>\n",
       "      <th>25%</th>\n",
       "      <td>3.750000</td>\n",
       "      <td>0.000000</td>\n",
       "      <td>8.750000</td>\n",
       "      <td>1.750000</td>\n",
       "      <td>37.50000</td>\n",
       "    </tr>\n",
       "    <tr>\n",
       "      <th>50%</th>\n",
       "      <td>6.500000</td>\n",
       "      <td>2.500000</td>\n",
       "      <td>15.000000</td>\n",
       "      <td>2.500000</td>\n",
       "      <td>65.00000</td>\n",
       "    </tr>\n",
       "    <tr>\n",
       "      <th>75%</th>\n",
       "      <td>9.250000</td>\n",
       "      <td>7.000000</td>\n",
       "      <td>27.500000</td>\n",
       "      <td>3.250000</td>\n",
       "      <td>92.50000</td>\n",
       "    </tr>\n",
       "    <tr>\n",
       "      <th>max</th>\n",
       "      <td>12.000000</td>\n",
       "      <td>10.000000</td>\n",
       "      <td>50.000000</td>\n",
       "      <td>4.000000</td>\n",
       "      <td>100.00000</td>\n",
       "    </tr>\n",
       "  </tbody>\n",
       "</table>\n",
       "</div>"
      ],
      "text/plain": [
       "              I\u0000  P\u0000A\u0000R\u0000E\u0000N  C\u0000A\u0000T\u0000E\u0000G\u0000O        K\u0000E        3\u0000r\n",
       "count  12.000000  12.000000    12.000000  12.000000   12.00000\n",
       "mean    6.500000   3.666667    21.250000   2.500000   62.50000\n",
       "std     3.605551   3.938928    18.231466   1.167748   32.50874\n",
       "min     1.000000   0.000000     5.000000   1.000000   10.00000\n",
       "25%     3.750000   0.000000     8.750000   1.750000   37.50000\n",
       "50%     6.500000   2.500000    15.000000   2.500000   65.00000\n",
       "75%     9.250000   7.000000    27.500000   3.250000   92.50000\n",
       "max    12.000000  10.000000    50.000000   4.000000  100.00000"
      ]
     },
     "execution_count": 18,
     "metadata": {},
     "output_type": "execute_result"
    }
   ],
   "source": [
    "df.describe()"
   ]
  },
  {
   "cell_type": "code",
   "execution_count": null,
   "metadata": {},
   "outputs": [],
   "source": []
  }
 ],
 "metadata": {
  "kernelspec": {
   "display_name": "Python 3",
   "language": "python",
   "name": "python3"
  },
  "language_info": {
   "codemirror_mode": {
    "name": "ipython",
    "version": 3
   },
   "file_extension": ".py",
   "mimetype": "text/x-python",
   "name": "python",
   "nbconvert_exporter": "python",
   "pygments_lexer": "ipython3",
   "version": "3.9.4"
  }
 },
 "nbformat": 4,
 "nbformat_minor": 2
}
