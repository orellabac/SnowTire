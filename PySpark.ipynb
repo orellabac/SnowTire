{
 "cells": [
  {
   "cell_type": "code",
   "execution_count": 1,
   "metadata": {},
   "outputs": [],
   "source": [
    "from pyspark import SparkConf,SparkContext\n",
    "from pyspark.sql import SQLContext\n",
    "from pyspark.sql.types import*\n",
    "from pyspark.sql.functions import*\n",
    "from pyspark import SparkConf,SparkContext\n",
    "import os"
   ]
  },
  {
   "cell_type": "code",
   "execution_count": 2,
   "metadata": {},
   "outputs": [],
   "source": [
    "#sc.stop()\n",
    "sc = SparkContext(\"local\", \"Simple App\")\n",
    "spark = SQLContext(sc)\n",
    "spark_conf = SparkConf().setMaster('local').setAppName('DEMO40')\n",
    "spark._jvm.net.snowflake.spark.snowflake.SnowflakeConnectorUtils.enablePushdownSession(spark._jvm.org.apache.spark.sql.SparkSession.builder().getOrCreate())\n",
    "sc._jvm.net.snowflake.spark.snowflake.SnowflakeConnectorUtils.enablePushdownSession(sc._jvm.org.apache.spark.sql.SparkSession.builder().getOrCreate())\n"
   ]
  },
  {
   "cell_type": "code",
   "execution_count": 3,
   "metadata": {},
   "outputs": [],
   "source": [
    "sfOptions={'sfURL':       os.getenv(\"SNOW_ACCOUNT\") + \".snowflakecomputing.com\",\n",
    "           'sfUser':      os.getenv(\"SNOW_USER\"),\n",
    "           'sfPassword':  os.getenv(\"SNOW_PASSWORD\"),\n",
    "           'sfDatabase':  os.getenv(\"SNOW_DATABASE\"),\n",
    "           'sfSchema':    \"PUBLIC\",\n",
    "           'sfRole':      os.getenv(\"SNOW_ROLE\"),\n",
    "           'sfWarehouse': os.getenv(\"SNOW_WAREHOUSE\")}\n",
    "\n",
    "sfSource='net.snowflake.spark.snowflake'"
   ]
  },
  {
   "cell_type": "code",
   "execution_count": null,
   "metadata": {},
   "outputs": [],
   "source": []
  },
  {
   "cell_type": "code",
   "execution_count": 4,
   "metadata": {},
   "outputs": [],
   "source": [
    "df_countries=spark.read.format(sfSource) \\\n",
    "    .options(**sfOptions) \\\n",
    "    .option(\"dbtable\",\"Countries\") \\\n",
    "    .load()"
   ]
  },
  {
   "cell_type": "code",
   "execution_count": 6,
   "metadata": {},
   "outputs": [
    {
     "name": "stdout",
     "output_type": "stream",
     "text": [
      "+---+---+----+----------+-----------+-------+-------------+------------+\n",
      "| ID|ISO|ISO3|ISONUMERIC|COUNTRYNAME|CAPITAL|CONTINENTCODE|CURRENCYCODE|\n",
      "+---+---+----+----------+-----------+-------+-------------+------------+\n",
      "+---+---+----+----------+-----------+-------+-------------+------------+\n",
      "\n",
      "CPU times: user 1.4 ms, sys: 1.31 ms, total: 2.72 ms\n",
      "Wall time: 3.64 s\n"
     ]
    }
   ],
   "source": [
    "%%time\n",
    "df_countries.show()"
   ]
  },
  {
   "cell_type": "code",
   "execution_count": 7,
   "metadata": {},
   "outputs": [
    {
     "name": "stdout",
     "output_type": "stream",
     "text": [
      "root\n",
      " |-- ID: decimal(38,0) (nullable = false)\n",
      " |-- ISO: string (nullable = false)\n",
      " |-- ISO3: string (nullable = false)\n",
      " |-- ISONUMERIC: decimal(38,0) (nullable = false)\n",
      " |-- COUNTRYNAME: string (nullable = false)\n",
      " |-- CAPITAL: string (nullable = false)\n",
      " |-- CONTINENTCODE: string (nullable = false)\n",
      " |-- CURRENCYCODE: string (nullable = false)\n",
      "\n"
     ]
    }
   ],
   "source": [
    "df_countries.printSchema()"
   ]
  }
 ],
 "metadata": {
  "kernelspec": {
   "display_name": "Python 3",
   "language": "python",
   "name": "python3"
  },
  "language_info": {
   "codemirror_mode": {
    "name": "ipython",
    "version": 3
   },
   "file_extension": ".py",
   "mimetype": "text/x-python",
   "name": "python",
   "nbconvert_exporter": "python",
   "pygments_lexer": "ipython3",
   "version": "3.9.4"
  }
 },
 "nbformat": 4,
 "nbformat_minor": 2
}
