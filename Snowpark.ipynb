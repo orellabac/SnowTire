{
 "cells": [
  {
   "cell_type": "markdown",
   "id": "38f9a7eb",
   "metadata": {},
   "source": [
    "# Notebook Initialization"
   ]
  },
  {
   "cell_type": "code",
   "execution_count": 1,
   "id": "2fd4fffe",
   "metadata": {},
   "outputs": [
    {
     "data": {
      "text/plain": [
       "\u001b[32mimport \u001b[39m\u001b[36msys.process._\n",
       "\u001b[39m\n",
       "\u001b[32mimport \u001b[39m\u001b[36mammonite.ops._\n",
       "\u001b[39m\n",
       "\u001b[32mimport \u001b[39m\u001b[36mammonite.ops.ImplicitWd\n",
       "// We need to create a temporary folder. We add a random in case you are working with several notebooks\n",
       "\u001b[39m\n",
       "\u001b[36mrandom\u001b[39m: \u001b[32mInt\u001b[39m = \u001b[32m9711\u001b[39m\n",
       "\u001b[36mreplClassPath\u001b[39m: \u001b[32mString\u001b[39m = \u001b[32m\"/home/jovyan/replClasses9711\"\u001b[39m\n",
       "\u001b[36mres0_5\u001b[39m: \u001b[32mInt\u001b[39m = \u001b[32m0\u001b[39m"
      ]
     },
     "execution_count": 1,
     "metadata": {},
     "output_type": "execute_result"
    }
   ],
   "source": [
    "import sys.process._\n",
    "import ammonite.ops._\n",
    "import ammonite.ops.ImplicitWd\n",
    "// We need to create a temporary folder. We add a random in case you are working with several notebooks\n",
    "val random = scala.util.Random.nextInt(10000)\n",
    "val replClassPath = System.getProperty(\"user.home\") + s\"/replClasses$random\"\n",
    "\n",
    "s\"mkdir -p $replClassPath\" !\n"
   ]
  },
  {
   "cell_type": "code",
   "execution_count": 2,
   "id": "9bcf1935",
   "metadata": {},
   "outputs": [],
   "source": [
    "interp.configureCompiler(_.settings.outputDirs.setSingleOutput(replClassPath))\n",
    "interp.configureCompiler(_.settings.Yreplclassbased)\n",
    "interp.load.cp(os.Path(replClassPath))"
   ]
  },
  {
   "cell_type": "code",
   "execution_count": 3,
   "id": "5b1a9e2e",
   "metadata": {},
   "outputs": [
    {
     "data": {
      "text/plain": [
       "\u001b[32mimport \u001b[39m\u001b[36m$ivy.$                              \n",
       "\n",
       "\u001b[39m\n",
       "\u001b[32mimport \u001b[39m\u001b[36mcom.snowflake.snowpark._\n",
       "\u001b[39m\n",
       "\u001b[32mimport \u001b[39m\u001b[36mcom.snowflake.snowpark.functions._\n",
       "\n",
       "\u001b[39m"
      ]
     },
     "execution_count": 3,
     "metadata": {},
     "output_type": "execute_result"
    }
   ],
   "source": [
    "// Import the Snowpark library from Maven.\n",
    "import $ivy.`com.snowflake:snowpark:0.10.0`\n",
    "\n",
    "import com.snowflake.snowpark._\n",
    "import com.snowflake.snowpark.functions._\n",
    "\n"
   ]
  },
  {
   "cell_type": "code",
   "execution_count": null,
   "id": "1a94f4fb",
   "metadata": {},
   "outputs": [],
   "source": [
    "## Creating a session"
   ]
  },
  {
   "cell_type": "code",
   "execution_count": 4,
   "id": "175ed026",
   "metadata": {},
   "outputs": [
    {
     "name": "stderr",
     "output_type": "stream",
     "text": [
      "[scala-interpreter-1] INFO com.snowflake.snowpark.Session - Closing stderr and redirecting to stdout\n"
     ]
    },
    {
     "name": "stdout",
     "output_type": "stream",
     "text": [
      "[scala-interpreter-1] INFO com.snowflake.snowpark.Session - Done closing stderr and redirecting to stdout\n",
      "[scala-interpreter-1] INFO com.snowflake.snowpark.internal.ParameterUtils - set JDBC client memory limit to 10240\n",
      "[scala-interpreter-1] INFO com.snowflake.snowpark.Session - Snowpark Session information: {\n",
      " \"snowpark.version\" : \"0.10.0\",\n",
      " \"java.version\" : \"11.0.11\",\n",
      " \"scala.version\" : \"2.12.11\",\n",
      " \"jdbc.session.id\" : \"31151406055434\",\n",
      " \"os.name\" : \"Linux\",\n",
      " \"jdbc.version\" : \"3.13.7\",\n",
      " \"snowpark.library\" : \"/home/jovyan/.cache/coursier/v1/https/repo1.maven.org/maven2/com/snowflake/snowpark/0.10.0/snowpark-0.10.0.jar\",\n",
      " \"scala.library\" : \"/home/jovyan/.cache/coursier/v1/https/repo1.maven.org/maven2/org/scala-lang/scala-library/2.12.11/scala-library-2.12.11.jar\",\n",
      " \"jdbc.library\" : \"/home/jovyan/.cache/coursier/v1/https/repo1.maven.org/maven2/net/snowflake/snowflake-jdbc/3.13.7/snowflake-jdbc-3.13.7.jar\"\n",
      "}\n",
      "[scala-interpreter-1] INFO com.snowflake.snowpark.internal.ServerConnection - Actively querying parameter QUERY_TAG from server.\n",
      "[scala-interpreter-1] INFO com.snowflake.snowpark.internal.ServerConnection - Execute query [queryID: 01a01efe-0402-f182-0000-1c5500cfe06e] alter session set query_tag = 'com.snowflake.snowpark.DataFrame.collect\n",
      "ammonite.$sess.cmd3$Helper.<init>(cmd3.sc:17)'\n",
      "[scala-interpreter-1] INFO com.snowflake.snowpark.internal.ServerConnection - Execute query [queryID: 01a01efe-0402-f186-0000-1c5500cff052] USE SCHEMA PUBLIC\n",
      "[scala-interpreter-1] INFO com.snowflake.snowpark.internal.ServerConnection - Execute query [queryID: 01a01efe-0402-f186-0000-1c5500cff056] alter session unset query_tag\n"
     ]
    },
    {
     "data": {
      "text/html": [
       "<div class=\"jp-RenderedText\">\n",
       "<pre><code><span style=\"color: rgb(0, 187, 187)\"><span class=\"ansi-cyan-fg\">session</span></span>: <span style=\"color: rgb(0, 187, 0)\"><span class=\"ansi-green-fg\">Session</span></span> = com.snowflake.snowpark.Session@11bcab9b\n",
       "<span style=\"color: rgb(0, 187, 187)\"><span class=\"ansi-cyan-fg\">schema</span></span>: <span style=\"color: rgb(0, 187, 0)\"><span class=\"ansi-green-fg\">String</span></span> = <span style=\"color: rgb(0, 187, 0)\"><span class=\"ansi-green-fg\">&quot;PUBLIC&quot;</span></span>\n",
       "<span style=\"color: rgb(0, 187, 187)\"><span class=\"ansi-cyan-fg\">res3_4</span></span>: <span style=\"color: rgb(0, 187, 0)\"><span class=\"ansi-green-fg\">Array</span></span>[<span style=\"color: rgb(0, 187, 0)\"><span class=\"ansi-green-fg\">Row</span></span>] = <span style=\"color: yellow\"><span class=\"ansi-yellow-fg\">Array</span></span>(Row[Statement executed successfully.])</code></pre>\n",
       "</div>"
      ],
      "text/plain": [
       "\u001b[36msession\u001b[39m: \u001b[32mSession\u001b[39m = com.snowflake.snowpark.Session@11bcab9b\n",
       "\u001b[36mschema\u001b[39m: \u001b[32mString\u001b[39m = \u001b[32m\"PUBLIC\"\u001b[39m\n",
       "\u001b[36mres3_4\u001b[39m: \u001b[32mArray\u001b[39m[\u001b[32mRow\u001b[39m] = \u001b[33mArray\u001b[39m(Row[Statement executed successfully.])"
      ]
     },
     "metadata": {},
     "output_type": "display_data"
    }
   ],
   "source": [
    "val session = Session.builder.configs(Map(\n",
    "    \"URL\" -> (\"https://\"+System.getenv(\"SNOW_ACCOUNT\") + \".snowflakecomputing.com\"),\n",
    "    \"USER\" -> System.getenv(\"SNOW_USER\"),\n",
    "    \"PASSWORD\" -> System.getenv(\"SNOW_PASSWORD\"),\n",
    "    \"ROLE\" -> System.getenv(\"SNOW_ROLE\"),\n",
    "    \"WAREHOUSE\" -> System.getenv(\"SNOW_WAREHOUSE\"),\n",
    "    \"DB\" -> System.getenv(\"SNOW_DATABASE\")\n",
    ")).create\n",
    "\n",
    "// Add the directory for REPL classes that you created earlier.\n",
    "session.addDependency(replClassPath)\n",
    "var schema = System.getenv(\"SNOW_SCHEMA\")\n",
    "if (schema == null)\n",
    "    schema = \"PUBLIC\"\n",
    "session.sql(s\"USE SCHEMA $schema\").collect() "
   ]
  },
  {
   "cell_type": "markdown",
   "id": "cc5d70a9",
   "metadata": {},
   "source": [
    "## UDF Dependencies"
   ]
  },
  {
   "cell_type": "code",
   "execution_count": 5,
   "id": "d04fcf93",
   "metadata": {},
   "outputs": [
    {
     "data": {
      "text/plain": [
       "defined \u001b[32mfunction\u001b[39m \u001b[36maddClass\u001b[39m\n",
       "\u001b[36mres4_1\u001b[39m: \u001b[32mString\u001b[39m = \u001b[32m\"/home/jovyan/.cache/coursier/v1/https/repo1.maven.org/maven2/com/lihaoyi/ammonite-repl-api_2.12.11/2.2.0-4-4bd225e/ammonite-repl-api_2.12.11-2.2.0-4-4bd225e.jar\"\u001b[39m\n",
       "\u001b[36mres4_2\u001b[39m: \u001b[32mString\u001b[39m = \u001b[32m\"/home/jovyan/.cache/coursier/v1/https/repo1.maven.org/maven2/com/lihaoyi/ammonite-interp-api_2.12.11/2.2.0-4-4bd225e/ammonite-interp-api_2.12.11-2.2.0-4-4bd225e.jar\"\u001b[39m\n",
       "\u001b[36mres4_3\u001b[39m: \u001b[32mString\u001b[39m = \u001b[32m\"/home/jovyan/.cache/coursier/v1/https/repo1.maven.org/maven2/com/lihaoyi/pprint_2.12/0.5.9/pprint_2.12-0.5.9.jar\"\u001b[39m"
      ]
     },
     "execution_count": 5,
     "metadata": {},
     "output_type": "execute_result"
    }
   ],
   "source": [
    "// Adding the Ammonite kernel classes as dependencies for your UDF\n",
    "def addClass(session: Session, className: String): String = {\n",
    "  var cls1 = Class.forName(className)\n",
    "  val resourceName = \"/\" + cls1.getName().replace(\".\", \"/\") + \".class\"\n",
    "  val url = cls1.getResource(resourceName)\n",
    "  val path = url.getPath().split(\":\").last.split(\"!\").head\n",
    "  session.addDependency(path)\n",
    "  path\n",
    "}\n",
    "addClass(session, \"ammonite.repl.ReplBridge$\")\n",
    "addClass(session, \"ammonite.interp.api.APIHolder\")\n",
    "addClass(session, \"pprint.TPrintColors\")"
   ]
  },
  {
   "cell_type": "markdown",
   "id": "79183d3e",
   "metadata": {},
   "source": [
    "## UDF Validation"
   ]
  },
  {
   "cell_type": "code",
   "execution_count": 6,
   "id": "3c3e54e0",
   "metadata": {},
   "outputs": [
    {
     "name": "stdout",
     "output_type": "stream",
     "text": [
      "-----------------------------\n",
      "|\"NAME\"   |\"Full Name\"      |\n",
      "-----------------------------\n",
      "|Raymond  |Raymond Johnson  |\n",
      "-----------------------------\n",
      "\n"
     ]
    },
    {
     "data": {
      "text/plain": [
       "defined \u001b[32mclass\u001b[39m \u001b[36mUDFCode\u001b[39m\n",
       "\u001b[36mappendLastNameUdf\u001b[39m: \u001b[32mUserDefinedFunction\u001b[39m = \u001b[33mUserDefinedFunction\u001b[39m(\n",
       "  ammonite.$sess.cmd5$Helper$UDFCode$$Lambda$3106/0x0000000100f77040@3da388b5,\n",
       "  \u001b[33mUdfColumnSchema\u001b[39m(String, false),\n",
       "  \u001b[33mList\u001b[39m(\u001b[33mUdfColumnSchema\u001b[39m(String, false)),\n",
       "  \u001b[33mSome\u001b[39m(\u001b[32m\"\\\"DEMODB\\\".\\\"PUBLIC\\\".SNOWPARK_TEMP_FUNCTION_RFERAXYWQD8BJLL\"\u001b[39m)\n",
       ")\n",
       "\u001b[36mdf\u001b[39m: \u001b[32mDataFrame\u001b[39m = com.snowflake.snowpark.DataFrame@449f0c71"
      ]
     },
     "execution_count": 6,
     "metadata": {},
     "output_type": "execute_result"
    }
   ],
   "source": [
    "// Now let's try a simple UDF\n",
    "\n",
    "class UDFCode extends Serializable {\n",
    "  val appendLastNameFunc = (s: String) => {\n",
    "    s\"$s Johnson\"\n",
    "  }\n",
    "}\n",
    "// Define an anonymous UDF.\n",
    "val appendLastNameUdf = udf((new UDFCode).appendLastNameFunc)\n",
    "// Create a DataFrame that has a column NAME with a single row with the value \"Raymond\".\n",
    "val df = session.sql(\"select 'Raymond' NAME\")\n",
    "// Call the UDF, passing in the values in the NAME column.\n",
    "// Return a new DataFrame that has an additional column \"Full Name\" that contains the value returned by the UDF.\n",
    "df.withColumn(\"Full Name\", appendLastNameUdf(col(\"NAME\"))).show()\n"
   ]
  },
  {
   "cell_type": "markdown",
   "id": "9cb6d610",
   "metadata": {},
   "source": [
    "# Preparing some sample Data"
   ]
  },
  {
   "cell_type": "code",
   "execution_count": 7,
   "id": "3f7c1ad5",
   "metadata": {},
   "outputs": [
    {
     "data": {
      "text/plain": [
       "\u001b[36mres6_0\u001b[39m: \u001b[32mArray\u001b[39m[\u001b[32mRow\u001b[39m] = \u001b[33mArray\u001b[39m(Row[Table SAMPLE_PRODUCT_DATA successfully created.])\n",
       "\u001b[36mres6_1\u001b[39m: \u001b[32mArray\u001b[39m[\u001b[32mRow\u001b[39m] = \u001b[33mArray\u001b[39m(Row[12])"
      ]
     },
     "execution_count": 7,
     "metadata": {},
     "output_type": "execute_result"
    }
   ],
   "source": [
    "session.sql(\"create or replace table sample_product_data (id int, parent_id int, category_id int, name varchar, serial_number varchar, key int, \\\"3rd\\\" int);\").collect()\n",
    "session.sql(\"\"\"insert into sample_product_data values\n",
    "    (1, 0, 5, 'Product 1', 'prod-1', 1, 10),\n",
    "    (2, 1, 5, 'Product 1A', 'prod-1-A', 1, 20),\n",
    "    (3, 1, 5, 'Product 1B', 'prod-1-B', 1, 30),\n",
    "    (4, 0, 10, 'Product 2', 'prod-2', 2, 40),\n",
    "    (5, 4, 10, 'Product 2A', 'prod-2-A', 2, 50),\n",
    "    (6, 4, 10, 'Product 2B', 'prod-2-B', 2, 60),\n",
    "    (7, 0, 20, 'Product 3', 'prod-3', 3, 70),\n",
    "    (8, 7, 20, 'Product 3A', 'prod-3-A', 3, 80),\n",
    "    (9, 7, 20, 'Product 3B', 'prod-3-B', 3, 90),\n",
    "    (10, 0, 50, 'Product 4', 'prod-4', 4, 100),\n",
    "    (11, 10, 50, 'Product 4A', 'prod-4-A', 4, 100),\n",
    "    (12, 10, 50, 'Product 4B', 'prod-4-B', 4, 100);\"\"\").collect()\n"
   ]
  },
  {
   "cell_type": "markdown",
   "id": "6265715f",
   "metadata": {},
   "source": [
    "# Constructing a DataFrame"
   ]
  },
  {
   "cell_type": "code",
   "execution_count": 8,
   "id": "3eb3246b",
   "metadata": {},
   "outputs": [
    {
     "name": "stdout",
     "output_type": "stream",
     "text": [
      "-------------------------------------------------------------------------------------\n",
      "|\"ID\"  |\"PARENT_ID\"  |\"CATEGORY_ID\"  |\"NAME\"      |\"SERIAL_NUMBER\"  |\"KEY\"  |\"3rd\"  |\n",
      "-------------------------------------------------------------------------------------\n",
      "|1     |0            |5              |Product 1   |prod-1           |1      |10     |\n",
      "|2     |1            |5              |Product 1A  |prod-1-A         |1      |20     |\n",
      "|3     |1            |5              |Product 1B  |prod-1-B         |1      |30     |\n",
      "|4     |0            |10             |Product 2   |prod-2           |2      |40     |\n",
      "|5     |4            |10             |Product 2A  |prod-2-A         |2      |50     |\n",
      "|6     |4            |10             |Product 2B  |prod-2-B         |2      |60     |\n",
      "|7     |0            |20             |Product 3   |prod-3           |3      |70     |\n",
      "|8     |7            |20             |Product 3A  |prod-3-A         |3      |80     |\n",
      "|9     |7            |20             |Product 3B  |prod-3-B         |3      |90     |\n",
      "|10    |0            |50             |Product 4   |prod-4           |4      |100    |\n",
      "-------------------------------------------------------------------------------------\n",
      "\n"
     ]
    },
    {
     "data": {
      "text/plain": [
       "\u001b[36mdfTable\u001b[39m: \u001b[32mUpdatable\u001b[39m = com.snowflake.snowpark.Updatable@75ea7b01"
      ]
     },
     "execution_count": 8,
     "metadata": {},
     "output_type": "execute_result"
    }
   ],
   "source": [
    "//To create a DataFrame from data in a table, view, or stream, call the table method:\n",
    "\n",
    "// Create a DataFrame from the data in the \"sample_product_data\" table.\n",
    "val dfTable = session.table(\"sample_product_data\")\n",
    "\n",
    "// To print out the first 10 rows, call:\n",
    "dfTable.show()"
   ]
  },
  {
   "cell_type": "code",
   "execution_count": 9,
   "id": "c43357d5",
   "metadata": {},
   "outputs": [
    {
     "data": {
      "text/plain": [
       "\u001b[36mdfSeq\u001b[39m: \u001b[32mDataFrame\u001b[39m = com.snowflake.snowpark.DataFrame@4b751158"
      ]
     },
     "execution_count": 9,
     "metadata": {},
     "output_type": "execute_result"
    }
   ],
   "source": [
    "// Create a DataFrame containing a sequence of values.\n",
    "// In the DataFrame, name the columns \"i\" and \"s\".\n",
    "val dfSeq = session.createDataFrame(Seq((1, \"one\"), (2, \"two\"))).toDF(\"i\", \"s\")"
   ]
  },
  {
   "cell_type": "code",
   "execution_count": null,
   "id": "ca02a989",
   "metadata": {},
   "outputs": [],
   "source": [
    "// Create a DataFrame from a range\n",
    "val dfRange = session.range(1, 10, 2)"
   ]
  },
  {
   "cell_type": "code",
   "execution_count": 10,
   "id": "0ea862d7",
   "metadata": {},
   "outputs": [
    {
     "data": {
      "text/plain": [
       "\u001b[36mdfSql\u001b[39m: \u001b[32mDataFrame\u001b[39m = com.snowflake.snowpark.DataFrame@3a77ae74"
      ]
     },
     "execution_count": 10,
     "metadata": {},
     "output_type": "execute_result"
    }
   ],
   "source": [
    "// Create a DataFrame from a SQL query\n",
    "val dfSql = session.sql(\"SELECT name from products\")"
   ]
  },
  {
   "cell_type": "code",
   "execution_count": 11,
   "id": "0609d317",
   "metadata": {},
   "outputs": [
    {
     "name": "stdout",
     "output_type": "stream",
     "text": [
      "------------------------------------------------------------------------------------\n",
      "|\"ID\"  |\"PARENT_ID\"  |\"CATEGORY_ID\"  |\"NAME\"     |\"SERIAL_NUMBER\"  |\"KEY\"  |\"3rd\"  |\n",
      "------------------------------------------------------------------------------------\n",
      "|1     |0            |5              |Product 1  |prod-1           |1      |10     |\n",
      "------------------------------------------------------------------------------------\n",
      "\n"
     ]
    },
    {
     "data": {
      "text/plain": [
       "\u001b[32mimport \u001b[39m\u001b[36mcom.snowflake.snowpark.functions._\n",
       "\n",
       "// Create a DataFrame for the rows with the ID 1\n",
       "// in the \"sample_product_data\" table.\n",
       "//\n",
       "// This example uses the === operator of the Column object to perform an\n",
       "// equality check.\n",
       "\u001b[39m\n",
       "\u001b[36mdf\u001b[39m: \u001b[32mDataFrame\u001b[39m = com.snowflake.snowpark.DataFrame@6bc1e8ac"
      ]
     },
     "execution_count": 11,
     "metadata": {},
     "output_type": "execute_result"
    }
   ],
   "source": [
    "// To specify which rows should be returned, call the filter method:\n",
    "\n",
    "// Import the col function from the functions object.\n",
    "import com.snowflake.snowpark.functions._\n",
    "\n",
    "// Create a DataFrame for the rows with the ID 1\n",
    "// in the \"sample_product_data\" table.\n",
    "//\n",
    "// This example uses the === operator of the Column object to perform an\n",
    "// equality check.\n",
    "val df = session.table(\"sample_product_data\").filter(col(\"id\") === 1)\n",
    "df.show()"
   ]
  },
  {
   "cell_type": "code",
   "execution_count": 12,
   "id": "f53b30ea",
   "metadata": {},
   "outputs": [
    {
     "name": "stdout",
     "output_type": "stream",
     "text": [
      "---------------------------------------\n",
      "|\"ID\"  |\"NAME\"      |\"SERIAL_NUMBER\"  |\n",
      "---------------------------------------\n",
      "|1     |Product 1   |prod-1           |\n",
      "|2     |Product 1A  |prod-1-A         |\n",
      "|3     |Product 1B  |prod-1-B         |\n",
      "|4     |Product 2   |prod-2           |\n",
      "|5     |Product 2A  |prod-2-A         |\n",
      "|6     |Product 2B  |prod-2-B         |\n",
      "|7     |Product 3   |prod-3           |\n",
      "|8     |Product 3A  |prod-3-A         |\n",
      "|9     |Product 3B  |prod-3-B         |\n",
      "|10    |Product 4   |prod-4           |\n",
      "---------------------------------------\n",
      "\n"
     ]
    },
    {
     "data": {
      "text/plain": [
       "\u001b[32mimport \u001b[39m\u001b[36mcom.snowflake.snowpark.functions._\n",
       "\n",
       "// Create a DataFrame that contains the id, name, and serial_number\n",
       "// columns in te \"sample_product_data\" table.\n",
       "\u001b[39m\n",
       "\u001b[36mdf\u001b[39m: \u001b[32mDataFrame\u001b[39m = com.snowflake.snowpark.DataFrame@5274821"
      ]
     },
     "execution_count": 12,
     "metadata": {},
     "output_type": "execute_result"
    }
   ],
   "source": [
    "// Import the col function from the functions object.\n",
    "import com.snowflake.snowpark.functions._\n",
    "\n",
    "// Create a DataFrame that contains the id, name, and serial_number\n",
    "// columns in te \"sample_product_data\" table.\n",
    "val df = session.table(\"sample_product_data\").select(col(\"id\"), col(\"name\"), col(\"serial_number\"))\n",
    "df.show()"
   ]
  },
  {
   "cell_type": "code",
   "execution_count": 13,
   "id": "4f6747fe",
   "metadata": {},
   "outputs": [
    {
     "name": "stdout",
     "output_type": "stream",
     "text": [
      "-------------------------------------------------------------------------------------------------------------------------------------------------------------------------------------------------------------------------------------------------------------------\n",
      "|\"l_veuZ_ID\"  |\"l_veuZ_PARENT_ID\"  |\"l_veuZ_CATEGORY_ID\"  |\"l_veuZ_NAME\"  |\"l_veuZ_SERIAL_NUMBER\"  |\"l_veuZ_KEY\"  |\"l_veuZ_3rd\"  |\"r_UxpM_ID\"  |\"r_UxpM_PARENT_ID\"  |\"r_UxpM_CATEGORY_ID\"  |\"r_UxpM_NAME\"  |\"r_UxpM_SERIAL_NUMBER\"  |\"r_UxpM_KEY\"  |\"r_UxpM_3rd\"  |\n",
      "-------------------------------------------------------------------------------------------------------------------------------------------------------------------------------------------------------------------------------------------------------------------\n",
      "|1            |0                   |5                     |Product 1      |prod-1                  |1             |10            |2            |1                   |5                     |Product 1A     |prod-1-A                |1             |20            |\n",
      "|1            |0                   |5                     |Product 1      |prod-1                  |1             |10            |3            |1                   |5                     |Product 1B     |prod-1-B                |1             |30            |\n",
      "|4            |0                   |10                    |Product 2      |prod-2                  |2             |40            |5            |4                   |10                    |Product 2A     |prod-2-A                |2             |50            |\n",
      "|4            |0                   |10                    |Product 2      |prod-2                  |2             |40            |6            |4                   |10                    |Product 2B     |prod-2-B                |2             |60            |\n",
      "|7            |0                   |20                    |Product 3      |prod-3                  |3             |70            |8            |7                   |20                    |Product 3A     |prod-3-A                |3             |80            |\n",
      "|7            |0                   |20                    |Product 3      |prod-3                  |3             |70            |9            |7                   |20                    |Product 3B     |prod-3-B                |3             |90            |\n",
      "|10           |0                   |50                    |Product 4      |prod-4                  |4             |100           |11           |10                  |50                    |Product 4A     |prod-4-A                |4             |100           |\n",
      "|10           |0                   |50                    |Product 4      |prod-4                  |4             |100           |12           |10                  |50                    |Product 4B     |prod-4-B                |4             |100           |\n",
      "-------------------------------------------------------------------------------------------------------------------------------------------------------------------------------------------------------------------------------------------------------------------\n",
      "\n"
     ]
    },
    {
     "data": {
      "text/plain": [
       "\u001b[36mdfLhs\u001b[39m: \u001b[32mUpdatable\u001b[39m = com.snowflake.snowpark.Updatable@4f2a1653\n",
       "\u001b[36mdfRhs\u001b[39m: \u001b[32mUpdatable\u001b[39m = com.snowflake.snowpark.Updatable@5329792\n",
       "\u001b[36mdfJoined\u001b[39m: \u001b[32mDataFrame\u001b[39m = com.snowflake.snowpark.DataFrame@3a9618a9"
      ]
     },
     "execution_count": 13,
     "metadata": {},
     "output_type": "execute_result"
    }
   ],
   "source": [
    "// Create a DataFrame object for the \"sample_product_data\" table for the left-hand side of the join.\n",
    "val dfLhs = session.table(\"sample_product_data\")\n",
    "// Clone the DataFrame object to use as the right-hand side of the join.\n",
    "val dfRhs = dfLhs.clone()\n",
    "\n",
    "// Create a DataFrame that joins the two DataFrames\n",
    "// for the \"sample_product_data\" table on the\n",
    "// \"id\" and \"parent_id\" columns.\n",
    "val dfJoined = dfLhs.join(dfRhs, dfLhs.col(\"id\") === dfRhs.col(\"parent_id\"))\n",
    "dfJoined.show()"
   ]
  },
  {
   "cell_type": "code",
   "execution_count": 14,
   "id": "107ae310",
   "metadata": {},
   "outputs": [
    {
     "name": "stdout",
     "output_type": "stream",
     "text": [
      "---------------------\n",
      "|\"ID\"  |\"NAME\"      |\n",
      "---------------------\n",
      "|1     |Product 1   |\n",
      "|2     |Product 1A  |\n",
      "|3     |Product 1B  |\n",
      "|4     |Product 2   |\n",
      "|5     |Product 2A  |\n",
      "|6     |Product 2B  |\n",
      "|7     |Product 3   |\n",
      "|8     |Product 3A  |\n",
      "|9     |Product 3B  |\n",
      "|10    |Product 4   |\n",
      "---------------------\n",
      "\n"
     ]
    },
    {
     "data": {
      "text/plain": [
       "\u001b[32mimport \u001b[39m\u001b[36mcom.snowflake.snowpark.functions._\n",
       "\n",
       "\u001b[39m\n",
       "\u001b[36mdfProductInfo\u001b[39m: \u001b[32mDataFrame\u001b[39m = com.snowflake.snowpark.DataFrame@3c513c0c"
      ]
     },
     "execution_count": 14,
     "metadata": {},
     "output_type": "execute_result"
    }
   ],
   "source": [
    "// Specifying Columns and Expressions\n",
    "// When calling these transformation methods, you might need to specify columns or expressions that use columns. For example, when calling the select method, you need to specify the columns that should be selected.\n",
    "\n",
    "// To refer to a column, create a Column object by calling the col function in the com.snowflake.snowpark.functions object.\n",
    "\n",
    "// Import the col function from the functions object.\n",
    "import com.snowflake.snowpark.functions._\n",
    "\n",
    "val dfProductInfo = session.table(\"sample_product_data\").select(col(\"id\"), col(\"name\"))\n",
    "dfProductInfo.show()"
   ]
  },
  {
   "cell_type": "code",
   "execution_count": 15,
   "id": "3c1e4e56",
   "metadata": {},
   "outputs": [
    {
     "data": {
      "text/plain": [
       "\u001b[36mdf\u001b[39m: \u001b[32mUpdatable\u001b[39m = com.snowflake.snowpark.Updatable@1bdefe41\n",
       "\u001b[36mres14_1\u001b[39m: \u001b[32mDataFrame\u001b[39m = com.snowflake.snowpark.DataFrame@4285fab3\n",
       "\u001b[36mres14_2\u001b[39m: \u001b[32mDataFrame\u001b[39m = com.snowflake.snowpark.DataFrame@2216b3a5\n",
       "\u001b[36mres14_3\u001b[39m: \u001b[32mDataFrame\u001b[39m = com.snowflake.snowpark.DataFrame@21c402df"
      ]
     },
     "execution_count": 15,
     "metadata": {},
     "output_type": "execute_result"
    }
   ],
   "source": [
    "// When specifying a filter, projection, join condition, etc., you can use Column objects in an expression. For example:\n",
    "val df = session.table(\"sample_product_data\")\n",
    "// You can use Column objects with the filter method to specify a filter condition:\n",
    "\n",
    "// Specify the equivalent of \"WHERE id = 20\"\n",
    "// in an SQL SELECT statement.\n",
    "df.filter(col(\"id\") === 20)\n",
    "// Specify the equivalent of \"WHERE a + b < 10\"\n",
    "// in an SQL SELECT statement.\n",
    "df.filter((col(\"a\") + col(\"b\")) < 10)\n",
    "//You can use Column objects with the select method to define an alias:\n",
    "\n",
    "// Specify the equivalent of \"SELECT b * 10 AS c\"\n",
    "// in an SQL SELECT statement.\n",
    "df.select((col(\"b\") * 10) as \"c\")"
   ]
  },
  {
   "cell_type": "code",
   "execution_count": 16,
   "id": "612d8f39",
   "metadata": {},
   "outputs": [
    {
     "name": "stdout",
     "output_type": "stream",
     "text": [
      "Schema for sample_product_data: StructType[StructField(ID, Long, Nullable = true), StructField(PARENT_ID, Long, Nullable = true), StructField(CATEGORY_ID, Long, Nullable = true), StructField(NAME, String, Nullable = true), StructField(SERIAL_NUMBER, String, Nullable = true), StructField(KEY, Long, Nullable = true), StructField(\"3rd\", Long, Nullable = true)]\n"
     ]
    },
    {
     "data": {
      "text/plain": [
       "\u001b[36mtableSchema\u001b[39m: \u001b[32mtypes\u001b[39m.\u001b[32mStructType\u001b[39m = \u001b[33mStructType\u001b[39m(\n",
       "  \u001b[33mStructField\u001b[39m(ID, Long, true),\n",
       "  \u001b[33mStructField\u001b[39m(PARENT_ID, Long, true),\n",
       "  \u001b[33mStructField\u001b[39m(CATEGORY_ID, Long, true),\n",
       "  \u001b[33mStructField\u001b[39m(NAME, String, true),\n",
       "  \u001b[33mStructField\u001b[39m(SERIAL_NUMBER, String, true),\n",
       "  \u001b[33mStructField\u001b[39m(KEY, Long, true),\n",
       "  \u001b[33mStructField\u001b[39m(\"3rd\", Long, true)\n",
       ")"
      ]
     },
     "execution_count": 16,
     "metadata": {},
     "output_type": "execute_result"
    }
   ],
   "source": [
    "//Retrieving Column Definitions\n",
    "//To retrieve the definition of the columns in the dataset for the DataFrame, call the schema method. This method returns a StructType object that contains an Array of StructField objects. Each StructField object contains the definition of a column.\n",
    "\n",
    "// Get the StructType object that describes the columns in the\n",
    "// underlying rowset.\n",
    "val tableSchema = session.table(\"sample_product_data\").schema\n",
    "println(\"Schema for sample_product_data: \" + tableSchema);"
   ]
  },
  {
   "cell_type": "code",
   "execution_count": 17,
   "id": "a7f3d5aa",
   "metadata": {},
   "outputs": [
    {
     "name": "stdout",
     "output_type": "stream",
     "text": [
      "Rows returned: 12\n"
     ]
    },
    {
     "data": {
      "text/plain": [
       "\u001b[36mdfProducts\u001b[39m: \u001b[32mUpdatable\u001b[39m = com.snowflake.snowpark.Updatable@1ea168f8"
      ]
     },
     "execution_count": 17,
     "metadata": {},
     "output_type": "execute_result"
    }
   ],
   "source": [
    "//To execute the query and return the number of results, call the count method:\n",
    "\n",
    "// Create a DataFrame for the \"sample_product_data\" table.\n",
    "val dfProducts = session.table(\"sample_product_data\")\n",
    "\n",
    "// Send the query to the server for execution and\n",
    "// print the count of rows in the table.\n",
    "println(\"Rows returned: \" + dfProducts.count())"
   ]
  },
  {
   "cell_type": "markdown",
   "id": "cf1a198f",
   "metadata": {},
   "source": [
    "Call update to update existing rows in the table. See [Updating Rows in a Table.](https://docs.snowflake.com/en/developer-guide/snowpark/working-with-dataframes.html#label-snowpark-dataframe-update-table-rows)\n",
    "\n",
    "Call delete to delete rows from a table. See [Deleting Rows in a Table.](https://docs.snowflake.com/en/developer-guide/snowpark/working-with-dataframes.html#label-snowpark-dataframe-delete-table-rows)\n",
    "\n",
    "Call merge to insert, update, and delete rows in one table, based on data in a second table or subquery. (This is the equivalent of the MERGE command in SQL.) See [Merging Rows into a Table.](https://docs.snowflake.com/en/developer-guide/snowpark/working-with-dataframes.html#label-snowpark-dataframe-merge-table-rows)"
   ]
  },
  {
   "cell_type": "code",
   "execution_count": null,
   "id": "fb534304",
   "metadata": {},
   "outputs": [],
   "source": [
    "//For example, to replace the values in the column named count with the value 1:\n",
    "\n",
    "val updatableDf = session.table(\"sample_product_data\")\n",
    "val updateResult = updatableDf.update(Map(\"count\" -> lit(1)))\n",
    "println(s\"Number of rows updated: ${updateResult.rowsUpdated}\")"
   ]
  }
 ],
 "metadata": {
  "kernelspec": {
   "display_name": "Scala",
   "language": "scala",
   "name": "scala"
  },
  "language_info": {
   "codemirror_mode": "text/x-scala",
   "file_extension": ".sc",
   "mimetype": "text/x-scala",
   "name": "scala",
   "nbconvert_exporter": "script",
   "version": "2.12.11"
  }
 },
 "nbformat": 4,
 "nbformat_minor": 5
}
