{
 "cells": [
  {
   "cell_type": "code",
   "execution_count": 10,
   "metadata": {},
   "outputs": [],
   "source": [
    "# Import the appropriate packages & modules\n",
    "import snowflake.connector\n",
    "from snowflake.connector.converter_null import SnowflakeNoConverterToPython\n",
    "import pandas as pd \n",
    "from sqlalchemy import create_engine\n",
    "from snowflake.sqlalchemy import URL\n",
    "import sqlalchemy as sa\n",
    "import os"
   ]
  },
  {
   "cell_type": "code",
   "execution_count": 11,
   "metadata": {},
   "outputs": [],
   "source": [
    "# Set some variables for the account, user & Password\n",
    "# Modify this section to match your demo account\n",
    "# and create an 'engine' for the Snowflake connection\n",
    "ACCOUNT = os.getenv('SNOW_ACCOUNT')\n",
    "USER = os.getenv('SNOW_USER')\n",
    "PASSWORD = os.getenv('SNOW_PASSWORD')\n",
    "\n",
    "engine = create_engine(URL(\n",
    "    account = ACCOUNT,\n",
    "    user = USER,\n",
    "    password = PASSWORD,\n",
    "    database = os.getenv('SNOW_DATABASE'),\n",
    "    schema = os.getenv('SNOW_SCHEMA') or 'public',\n",
    "    warehouse = os.getenv('SNOW_WAREHOUSE'),\n",
    "    role= os.getenv('SNOW_ROLE'),\n",
    "))\n"
   ]
  },
  {
   "cell_type": "code",
   "execution_count": 12,
   "metadata": {},
   "outputs": [],
   "source": [
    "connection = engine.connect()\n",
    "try:\n",
    "    sql = \"create or replace table sample_product_data (id int, parent_id int, category_id int, name varchar, serial_number varchar, key int, \\\"3rd\\\" int);\"\n",
    "    connection.execute(sql)\n",
    "    sql = \"\"\"insert into sample_product_data values\n",
    "    (1, 0, 5, 'Product 1', 'prod-1', 1, 10),\n",
    "    (2, 1, 5, 'Product 1A', 'prod-1-A', 1, 20),\n",
    "    (3, 1, 5, 'Product 1B', 'prod-1-B', 1, 30),\n",
    "    (4, 0, 10, 'Product 2', 'prod-2', 2, 40),\n",
    "    (5, 4, 10, 'Product 2A', 'prod-2-A', 2, 50),\n",
    "    (6, 4, 10, 'Product 2B', 'prod-2-B', 2, 60),\n",
    "    (7, 0, 20, 'Product 3', 'prod-3', 3, 70),\n",
    "    (8, 7, 20, 'Product 3A', 'prod-3-A', 3, 80),\n",
    "    (9, 7, 20, 'Product 3B', 'prod-3-B', 3, 90),\n",
    "    (10, 0, 50, 'Product 4', 'prod-4', 4, 100),\n",
    "    (11, 10, 50, 'Product 4A', 'prod-4-A', 4, 100),\n",
    "    (12, 10, 50, 'Product 4B', 'prod-4-B', 4, 100);\"\"\"\n",
    "    connection.execute(sql)\n",
    "finally:\n",
    "    connection.close()\n",
    "    engine.dispose()"
   ]
  },
  {
   "cell_type": "code",
   "execution_count": 13,
   "metadata": {},
   "outputs": [],
   "source": [
    "sql = \"select * from sample_product_data limit 1000\"\n",
    "# Use Pandas dataframe method read_sql_query to execute SQL in SQL Alchemy \n",
    "#%%time\n",
    "df = pd.read_sql_query(sql, engine)"
   ]
  },
  {
   "cell_type": "code",
   "execution_count": 14,
   "metadata": {},
   "outputs": [
    {
     "name": "stdout",
     "output_type": "stream",
     "text": [
      "<class 'pandas.core.frame.DataFrame'>\n",
      "RangeIndex: 12 entries, 0 to 11\n",
      "Data columns (total 7 columns):\n",
      " #   Column         Non-Null Count  Dtype \n",
      "---  ------         --------------  ----- \n",
      " 0   id             12 non-null     int64 \n",
      " 1   parent_id      12 non-null     int64 \n",
      " 2   category_id    12 non-null     int64 \n",
      " 3   name           12 non-null     object\n",
      " 4   serial_number  12 non-null     object\n",
      " 5   key            12 non-null     int64 \n",
      " 6   3rd            12 non-null     int64 \n",
      "dtypes: int64(5), object(2)\n",
      "memory usage: 800.0+ bytes\n"
     ]
    }
   ],
   "source": [
    "df.info()"
   ]
  },
  {
   "cell_type": "code",
   "execution_count": 15,
   "metadata": {},
   "outputs": [
    {
     "data": {
      "text/plain": [
       "id               False\n",
       "parent_id        False\n",
       "category_id      False\n",
       "name             False\n",
       "serial_number    False\n",
       "key              False\n",
       "3rd              False\n",
       "dtype: bool"
      ]
     },
     "execution_count": 15,
     "metadata": {},
     "output_type": "execute_result"
    }
   ],
   "source": [
    "pd.isnull(df).any()"
   ]
  },
  {
   "cell_type": "code",
   "execution_count": 16,
   "metadata": {},
   "outputs": [
    {
     "data": {
      "text/html": [
       "<div>\n",
       "<style scoped>\n",
       "    .dataframe tbody tr th:only-of-type {\n",
       "        vertical-align: middle;\n",
       "    }\n",
       "\n",
       "    .dataframe tbody tr th {\n",
       "        vertical-align: top;\n",
       "    }\n",
       "\n",
       "    .dataframe thead th {\n",
       "        text-align: right;\n",
       "    }\n",
       "</style>\n",
       "<table border=\"1\" class=\"dataframe\">\n",
       "  <thead>\n",
       "    <tr style=\"text-align: right;\">\n",
       "      <th></th>\n",
       "      <th>id</th>\n",
       "      <th>parent_id</th>\n",
       "      <th>name</th>\n",
       "      <th>serial_number</th>\n",
       "      <th>key</th>\n",
       "      <th>3rd</th>\n",
       "    </tr>\n",
       "    <tr>\n",
       "      <th>category_id</th>\n",
       "      <th></th>\n",
       "      <th></th>\n",
       "      <th></th>\n",
       "      <th></th>\n",
       "      <th></th>\n",
       "      <th></th>\n",
       "    </tr>\n",
       "  </thead>\n",
       "  <tbody>\n",
       "    <tr>\n",
       "      <th>5</th>\n",
       "      <td>3</td>\n",
       "      <td>3</td>\n",
       "      <td>3</td>\n",
       "      <td>3</td>\n",
       "      <td>3</td>\n",
       "      <td>3</td>\n",
       "    </tr>\n",
       "    <tr>\n",
       "      <th>10</th>\n",
       "      <td>3</td>\n",
       "      <td>3</td>\n",
       "      <td>3</td>\n",
       "      <td>3</td>\n",
       "      <td>3</td>\n",
       "      <td>3</td>\n",
       "    </tr>\n",
       "    <tr>\n",
       "      <th>20</th>\n",
       "      <td>3</td>\n",
       "      <td>3</td>\n",
       "      <td>3</td>\n",
       "      <td>3</td>\n",
       "      <td>3</td>\n",
       "      <td>3</td>\n",
       "    </tr>\n",
       "    <tr>\n",
       "      <th>50</th>\n",
       "      <td>3</td>\n",
       "      <td>3</td>\n",
       "      <td>3</td>\n",
       "      <td>3</td>\n",
       "      <td>3</td>\n",
       "      <td>3</td>\n",
       "    </tr>\n",
       "  </tbody>\n",
       "</table>\n",
       "</div>"
      ],
      "text/plain": [
       "             id  parent_id  name  serial_number  key  3rd\n",
       "category_id                                              \n",
       "5             3          3     3              3    3    3\n",
       "10            3          3     3              3    3    3\n",
       "20            3          3     3              3    3    3\n",
       "50            3          3     3              3    3    3"
      ]
     },
     "execution_count": 16,
     "metadata": {},
     "output_type": "execute_result"
    }
   ],
   "source": [
    "df.groupby('category_id').count()"
   ]
  },
  {
   "cell_type": "code",
   "execution_count": null,
   "metadata": {},
   "outputs": [],
   "source": []
  }
 ],
 "metadata": {
  "kernelspec": {
   "display_name": "Python 3",
   "language": "python",
   "name": "python3"
  },
  "language_info": {
   "codemirror_mode": {
    "name": "ipython",
    "version": 3
   },
   "file_extension": ".py",
   "mimetype": "text/x-python",
   "name": "python",
   "nbconvert_exporter": "python",
   "pygments_lexer": "ipython3",
   "version": "3.9.4"
  }
 },
 "nbformat": 4,
 "nbformat_minor": 2
}
